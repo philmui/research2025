{
 "cells": [
  {
   "cell_type": "markdown",
   "id": "9ad20a03",
   "metadata": {},
   "source": [
    "# Simple Agent\n"
   ]
  },
  {
   "cell_type": "code",
   "execution_count": 1,
   "id": "72ec63b9",
   "metadata": {},
   "outputs": [],
   "source": [
    "from dotenv import load_dotenv, find_dotenv\n",
    "load_dotenv(find_dotenv())\n",
    "\n",
    "import asyncio\n",
    "import os"
   ]
  },
  {
   "cell_type": "code",
   "execution_count": 2,
   "id": "21f3ba45",
   "metadata": {},
   "outputs": [],
   "source": [
    "from agents import Agent, Runner, set_tracing_disabled\n",
    "\n",
    "set_tracing_disabled(disabled=True)"
   ]
  },
  {
   "cell_type": "code",
   "execution_count": 3,
   "id": "f8bdda83",
   "metadata": {},
   "outputs": [],
   "source": [
    "my_agent = Agent(\n",
    "    name=\"My Agent\",\n",
    "    instructions=\"You are a helpful assistant that can answer questions and help with tasks.\",\n",
    "    model=\"gpt-5-mini\",\n",
    "    tools=[],\n",
    "    output_type=str,\n",
    ")"
   ]
  },
  {
   "cell_type": "code",
   "execution_count": 5,
   "id": "eef4cf46",
   "metadata": {},
   "outputs": [
    {
     "name": "stdout",
     "output_type": "stream",
     "text": [
      "I'm good, thanks! How can I help you today?\n",
      "I don’t have real-time weather access, so I can’t tell you the current conditions. Do you mean right now or just a general idea of San Francisco’s weather?\n",
      "\n",
      "Quick general summary (late September / typical conditions):\n",
      "- Early autumn is often one of the warmest times of year in SF — “Indian summer.”  \n",
      "- Daytime highs commonly in the mid‑60s to low‑70s °F (18–23 °C) in sunnier neighborhoods; coastal areas (Outer Sunset, Richmond) usually mid‑50s to low‑60s °F (12–16 °C) and foggier.  \n",
      "- Nights and mornings are cool, often 50s °F (10–13 °C).  \n",
      "- Microclimates matter: the Mission/SoMa/Financial District tend to be warmer and sunnier; the Marina, Sunset, and Richmond are cooler and windier.  \n",
      "- Dress in layers — mornings can be chilly/foggy, afternoons mild and pleasant.\n",
      "\n",
      "If you want the current conditions or a forecast, you can:\n",
      "- Check weather.gov (National Weather Service), Weather.com, or a phone weather app; or\n",
      "- Tell me a specific date/time you care about, and I can give typical averages; or\n",
      "- Paste a current weather report/URL and I’ll help interpret it. Which would you like?\n"
     ]
    }
   ],
   "source": [
    "user_input = input(\"Hello, how can I help you today?\")\n",
    "\n",
    "while user_input != \"\":\n",
    "    response  = await Runner.run(my_agent, user_input)\n",
    "    print(response.final_output)\n",
    "    user_input = input(\"What else can I do for you?\")\n"
   ]
  }
 ],
 "metadata": {
  "kernelspec": {
   "display_name": ".venv",
   "language": "python",
   "name": "python3"
  },
  "language_info": {
   "codemirror_mode": {
    "name": "ipython",
    "version": 3
   },
   "file_extension": ".py",
   "mimetype": "text/x-python",
   "name": "python",
   "nbconvert_exporter": "python",
   "pygments_lexer": "ipython3",
   "version": "3.12.7"
  }
 },
 "nbformat": 4,
 "nbformat_minor": 5
}
